{
 "cells": [
  {
   "cell_type": "code",
   "execution_count": 2,
   "metadata": {},
   "outputs": [],
   "source": [
    "class HyperoptObjective(object):\n",
    "    def __init__(self, X, y, model, const_params, fit_params, cv_splitter, cv_scoring):\n",
    "        self.evaluated_count = 0\n",
    "        self.X = X\n",
    "        self.y = y\n",
    "        self.model = model\n",
    "        self.constant_params = const_params\n",
    "        self.fit_params = fit_params\n",
    "        self.cv_splitter = cv_splitter\n",
    "        self.cv_scoring = cv_scoring\n",
    "        \n",
    "    '''\n",
    "    The way that HyperOpt fmin function works, is that on each evaluation \n",
    "    it calls given objective function. \n",
    "    Since we decided to declare our objective as class instead of a function,\n",
    "    we will implement the evaluation logic inside the __call__ method.\n",
    "    '''\n",
    "    def __call__(self, hyper_params):\n",
    "        \n",
    "        cv_result = cross_validate(\n",
    "            self.model(**hyper_params, **self.constant_params),\n",
    "            self.X, \n",
    "            self.y, \n",
    "            scoring=self.cv_scoring,\n",
    "            cv=self.cv_splitter,\n",
    "            fit_params=self.fit_params,\n",
    "            return_train_score=True\n",
    "        )\n",
    "        \n",
    "        '''\n",
    "        We're going to calculate final iteration score as mean \n",
    "        of the scores from all CV folds.\n",
    "        This choice is somewhat arbitrary, so it might be worth to consider\n",
    "        another aggregate function, such as np.min or np.max.\n",
    "        '''\n",
    "        mean_cv_result = np.mean(cv_result['test_score'])\n",
    "\n",
    "        self.evaluated_count += 1\n",
    "\n",
    "        '''\n",
    "        Hyperopt always tries to minimize loss. We will check _sign parametter attached \n",
    "        to scorer function by make_scorer (it is inferred from greater_is_better parameter). \n",
    "        If _sign is positive, we will flip mean_cv_result sign to convert score to loss. \n",
    "        '''\n",
    "        if self.cv_scoring._sign > 0:\n",
    "            mean_cv_result = -mean_cv_result \n",
    "        \n",
    "        return mean_cv_result"
   ]
  },
  {
   "cell_type": "code",
   "execution_count": null,
   "metadata": {},
   "outputs": [],
   "source": [
    "object = "
   ]
  }
 ],
 "metadata": {
  "kernelspec": {
   "display_name": "Python 3",
   "language": "python",
   "name": "python3"
  },
  "language_info": {
   "codemirror_mode": {
    "name": "ipython",
    "version": 3
   },
   "file_extension": ".py",
   "mimetype": "text/x-python",
   "name": "python",
   "nbconvert_exporter": "python",
   "pygments_lexer": "ipython3",
   "version": "3.8.5"
  }
 },
 "nbformat": 4,
 "nbformat_minor": 4
}
